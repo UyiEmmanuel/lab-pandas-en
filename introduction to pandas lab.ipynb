{
 "cells": [
  {
   "cell_type": "code",
   "execution_count": 2,
   "id": "6dbb7daa",
   "metadata": {},
   "outputs": [],
   "source": [
    "#Import Numpy and Pandas and alias them to np and pd respectively.\n",
    "import pandas as pd\n",
    "import numpy as np"
   ]
  },
  {
   "cell_type": "code",
   "execution_count": 4,
   "id": "0fe3cb6a",
   "metadata": {},
   "outputs": [],
   "source": [
    "#Create a Pandas Series containing the elements of the list below.\n",
    "lst = [5.7, 75.2, 74.4, 84.0, 66.5, 66.3, 55.8, 75.7, 29.1, 43.7]\n",
    "series = pd.Series(lst)"
   ]
  },
  {
   "cell_type": "code",
   "execution_count": 5,
   "id": "5f902f03",
   "metadata": {},
   "outputs": [
    {
     "data": {
      "text/plain": [
       "74.4"
      ]
     },
     "execution_count": 5,
     "metadata": {},
     "output_type": "execute_result"
    }
   ],
   "source": [
    "#Use indexing to return the third value in the Series above.\n",
    "third_value = series[2]\n",
    "third_value\n"
   ]
  },
  {
   "cell_type": "code",
   "execution_count": 6,
   "id": "41f5d52d",
   "metadata": {},
   "outputs": [],
   "source": [
    "#Create a Pandas DataFrame from the list of lists below. Each sublist should be represented as a row.\n",
    "b = [\n",
    "    [53.1, 95.0, 67.5, 35.0, 78.4],\n",
    "    [61.3, 40.8, 30.8, 37.8, 87.6],\n",
    "    [20.6, 73.2, 44.2, 14.6, 91.8],\n",
    "    [57.4, 0.1, 96.1, 4.2, 69.5],\n",
    "    [83.6, 20.5, 85.4, 22.8, 35.9],\n",
    "    [49.0, 69.0, 0.1, 31.8, 89.1],\n",
    "    [23.3, 40.7, 95.0, 83.8, 26.9],\n",
    "    [27.6, 26.4, 53.8, 88.8, 68.5],\n",
    "    [96.6, 96.4, 53.4, 72.4, 50.1],\n",
    "    [73.7, 39.0, 43.2, 81.6, 34.7]\n",
    "]\n",
    "df = pd.DataFrame(b)\n"
   ]
  },
  {
   "cell_type": "code",
   "execution_count": 8,
   "id": "ac2f8eb8",
   "metadata": {},
   "outputs": [],
   "source": [
    "# Rename the data frame columns based on the names in the list below.\n",
    "column_names = ['Score_1', 'Score_2', 'Score_3', 'Score_4', 'Score_5']\n",
    "df.columns = column_names\n"
   ]
  },
  {
   "cell_type": "code",
   "execution_count": 9,
   "id": "07c281c4",
   "metadata": {},
   "outputs": [],
   "source": [
    "#Create a subset of this data frame that contains only the Score 1, 3, and 5 columns.\n",
    "subset_df = df[['Score_1', 'Score_3', 'Score_5']]\n"
   ]
  },
  {
   "cell_type": "code",
   "execution_count": 10,
   "id": "3008b06c",
   "metadata": {},
   "outputs": [
    {
     "data": {
      "text/plain": [
       "56.95000000000001"
      ]
     },
     "execution_count": 10,
     "metadata": {},
     "output_type": "execute_result"
    }
   ],
   "source": [
    "#From the original data frame, calculate the average Score_3 value.\n",
    "average_score_3 = df['Score_3'].mean()\n",
    "average_score_3\n"
   ]
  },
  {
   "cell_type": "code",
   "execution_count": 11,
   "id": "c8e45204",
   "metadata": {},
   "outputs": [
    {
     "data": {
      "text/plain": [
       "88.8"
      ]
     },
     "execution_count": 11,
     "metadata": {},
     "output_type": "execute_result"
    }
   ],
   "source": [
    "#From the original data frame, calculate the maximum Score_4 value.\n",
    "max_score_4 = df['Score_4'].max()\n",
    "max_score_4\n"
   ]
  },
  {
   "cell_type": "code",
   "execution_count": 12,
   "id": "89d97456",
   "metadata": {},
   "outputs": [],
   "source": [
    "#Create a Pandas DataFrame from the dictionary of product orders below\n",
    "orders = {\n",
    "    'Description': [\n",
    "        'LUNCH BAG APPLE DESIGN', 'SET OF 60 VINTAGE LEAF CAKE CASES ', 'RIBBON REEL STRIPES DESIGN ',\n",
    "        'WORLD WAR 2 GLIDERS ASSTD DESIGNS', 'PLAYING CARDS JUBILEE UNION JACK', 'POPCORN HOLDER',\n",
    "        'BOX OF VINTAGE ALPHABET BLOCKS', 'PARTY BUNTING', 'JAZZ HEARTS ADDRESS BOOK', 'SET OF 4 SANTA PLACE SETTINGS'\n",
    "    ],\n",
    "    'Quantity': [1, 24, 1, 2880, 2, 7, 1, 4, 10, 48],\n",
    "    'UnitPrice': [1.65, 0.55, 1.65, 0.18, 1.25, 0.85, 11.95, 4.95, 0.19, 1.25],\n",
    "    'Revenue': [1.65, 13.2, 1.65, 518.4, 2.5, 5.95, 11.95, 19.8, 1.9, 60.0]\n",
    "}\n",
    "orders_df = pd.DataFrame(orders)\n"
   ]
  },
  {
   "cell_type": "code",
   "execution_count": 13,
   "id": "c71193d7",
   "metadata": {},
   "outputs": [
    {
     "data": {
      "text/plain": [
       "(2978, 637.0)"
      ]
     },
     "execution_count": 13,
     "metadata": {},
     "output_type": "execute_result"
    }
   ],
   "source": [
    "#Calculate the total quantity ordered and revenue generated from these orders.\n",
    "total_quantity = orders_df['Quantity'].sum()\n",
    "total_revenue = orders_df['Revenue'].sum()\n",
    "total_quantity, total_revenue\n"
   ]
  },
  {
   "cell_type": "code",
   "execution_count": 14,
   "id": "823d9e09",
   "metadata": {},
   "outputs": [
    {
     "data": {
      "text/plain": [
       "11.77"
      ]
     },
     "execution_count": 14,
     "metadata": {},
     "output_type": "execute_result"
    }
   ],
   "source": [
    "#Obtain the prices of the most expensive and least expensive items ordered and print the difference.\n",
    "max_price = orders_df['UnitPrice'].max()\n",
    "min_price = orders_df['UnitPrice'].min()\n",
    "price_difference = max_price - min_price\n",
    "price_difference\n"
   ]
  },
  {
   "cell_type": "code",
   "execution_count": 5,
   "id": "36d5466a",
   "metadata": {},
   "outputs": [
    {
     "data": {
      "text/html": [
       "<div>\n",
       "<style scoped>\n",
       "    .dataframe tbody tr th:only-of-type {\n",
       "        vertical-align: middle;\n",
       "    }\n",
       "\n",
       "    .dataframe tbody tr th {\n",
       "        vertical-align: top;\n",
       "    }\n",
       "\n",
       "    .dataframe thead th {\n",
       "        text-align: right;\n",
       "    }\n",
       "</style>\n",
       "<table border=\"1\" class=\"dataframe\">\n",
       "  <thead>\n",
       "    <tr style=\"text-align: right;\">\n",
       "      <th></th>\n",
       "      <th>Serial No.</th>\n",
       "      <th>GRE Score</th>\n",
       "      <th>TOEFL Score</th>\n",
       "      <th>University Rating</th>\n",
       "      <th>SOP</th>\n",
       "      <th>LOR</th>\n",
       "      <th>CGPA</th>\n",
       "      <th>Research</th>\n",
       "      <th>Chance of Admit</th>\n",
       "    </tr>\n",
       "  </thead>\n",
       "  <tbody>\n",
       "    <tr>\n",
       "      <th>0</th>\n",
       "      <td>1</td>\n",
       "      <td>337</td>\n",
       "      <td>118</td>\n",
       "      <td>4</td>\n",
       "      <td>4.5</td>\n",
       "      <td>4.5</td>\n",
       "      <td>9.65</td>\n",
       "      <td>1</td>\n",
       "      <td>0.92</td>\n",
       "    </tr>\n",
       "    <tr>\n",
       "      <th>1</th>\n",
       "      <td>2</td>\n",
       "      <td>316</td>\n",
       "      <td>104</td>\n",
       "      <td>3</td>\n",
       "      <td>3.0</td>\n",
       "      <td>3.5</td>\n",
       "      <td>8.00</td>\n",
       "      <td>1</td>\n",
       "      <td>0.72</td>\n",
       "    </tr>\n",
       "    <tr>\n",
       "      <th>2</th>\n",
       "      <td>3</td>\n",
       "      <td>322</td>\n",
       "      <td>110</td>\n",
       "      <td>3</td>\n",
       "      <td>3.5</td>\n",
       "      <td>2.5</td>\n",
       "      <td>8.67</td>\n",
       "      <td>1</td>\n",
       "      <td>0.80</td>\n",
       "    </tr>\n",
       "    <tr>\n",
       "      <th>3</th>\n",
       "      <td>4</td>\n",
       "      <td>314</td>\n",
       "      <td>103</td>\n",
       "      <td>2</td>\n",
       "      <td>2.0</td>\n",
       "      <td>3.0</td>\n",
       "      <td>8.21</td>\n",
       "      <td>0</td>\n",
       "      <td>0.65</td>\n",
       "    </tr>\n",
       "    <tr>\n",
       "      <th>4</th>\n",
       "      <td>5</td>\n",
       "      <td>330</td>\n",
       "      <td>115</td>\n",
       "      <td>5</td>\n",
       "      <td>4.5</td>\n",
       "      <td>3.0</td>\n",
       "      <td>9.34</td>\n",
       "      <td>1</td>\n",
       "      <td>0.90</td>\n",
       "    </tr>\n",
       "  </tbody>\n",
       "</table>\n",
       "</div>"
      ],
      "text/plain": [
       "   Serial No.  GRE Score  TOEFL Score  University Rating  SOP  LOR   CGPA  \\\n",
       "0           1        337          118                  4  4.5   4.5  9.65   \n",
       "1           2        316          104                  3  3.0   3.5  8.00   \n",
       "2           3        322          110                  3  3.5   2.5  8.67   \n",
       "3           4        314          103                  2  2.0   3.0  8.21   \n",
       "4           5        330          115                  5  4.5   3.0  9.34   \n",
       "\n",
       "   Research  Chance of Admit   \n",
       "0         1              0.92  \n",
       "1         1              0.72  \n",
       "2         1              0.80  \n",
       "3         0              0.65  \n",
       "4         1              0.90  "
      ]
     },
     "execution_count": 5,
     "metadata": {},
     "output_type": "execute_result"
    }
   ],
   "source": [
    "# Let's load another dataset for more exercises\n",
    "import pandas as pd\n",
    "import numpy as np\n",
    "admissions = pd.read_csv(\"Admission_Predict.csv\")\n",
    "# Let's evaluate the dataset by looking at the head function.\n",
    "admissions.head()\n"
   ]
  },
  {
   "cell_type": "code",
   "execution_count": 6,
   "id": "fd052b1e",
   "metadata": {},
   "outputs": [
    {
     "data": {
      "text/plain": [
       "Serial No.           0\n",
       "GRE Score            0\n",
       "TOEFL Score          0\n",
       "University Rating    0\n",
       "SOP                  0\n",
       "LOR                  0\n",
       "CGPA                 0\n",
       "Research             0\n",
       "Chance of Admit      0\n",
       "dtype: int64"
      ]
     },
     "execution_count": 6,
     "metadata": {},
     "output_type": "execute_result"
    }
   ],
   "source": [
    "missing_data = admissions.isnull().sum()\n",
    "missing_data\n"
   ]
  },
  {
   "cell_type": "code",
   "execution_count": 7,
   "id": "bda7edd8",
   "metadata": {},
   "outputs": [
    {
     "data": {
      "text/html": [
       "<div>\n",
       "<style scoped>\n",
       "    .dataframe tbody tr th:only-of-type {\n",
       "        vertical-align: middle;\n",
       "    }\n",
       "\n",
       "    .dataframe tbody tr th {\n",
       "        vertical-align: top;\n",
       "    }\n",
       "\n",
       "    .dataframe thead th {\n",
       "        text-align: right;\n",
       "    }\n",
       "</style>\n",
       "<table border=\"1\" class=\"dataframe\">\n",
       "  <thead>\n",
       "    <tr style=\"text-align: right;\">\n",
       "      <th></th>\n",
       "      <th>Serial No.</th>\n",
       "      <th>GRE Score</th>\n",
       "      <th>TOEFL Score</th>\n",
       "      <th>University Rating</th>\n",
       "      <th>SOP</th>\n",
       "      <th>LOR</th>\n",
       "      <th>CGPA</th>\n",
       "      <th>Research</th>\n",
       "      <th>Chance of Admit</th>\n",
       "    </tr>\n",
       "  </thead>\n",
       "  <tbody>\n",
       "    <tr>\n",
       "      <th>0</th>\n",
       "      <td>1</td>\n",
       "      <td>337</td>\n",
       "      <td>118</td>\n",
       "      <td>4</td>\n",
       "      <td>4.5</td>\n",
       "      <td>4.5</td>\n",
       "      <td>9.65</td>\n",
       "      <td>1</td>\n",
       "      <td>0.92</td>\n",
       "    </tr>\n",
       "    <tr>\n",
       "      <th>1</th>\n",
       "      <td>2</td>\n",
       "      <td>316</td>\n",
       "      <td>104</td>\n",
       "      <td>3</td>\n",
       "      <td>3.0</td>\n",
       "      <td>3.5</td>\n",
       "      <td>8.00</td>\n",
       "      <td>1</td>\n",
       "      <td>0.72</td>\n",
       "    </tr>\n",
       "    <tr>\n",
       "      <th>2</th>\n",
       "      <td>3</td>\n",
       "      <td>322</td>\n",
       "      <td>110</td>\n",
       "      <td>3</td>\n",
       "      <td>3.5</td>\n",
       "      <td>2.5</td>\n",
       "      <td>8.67</td>\n",
       "      <td>1</td>\n",
       "      <td>0.80</td>\n",
       "    </tr>\n",
       "    <tr>\n",
       "      <th>3</th>\n",
       "      <td>4</td>\n",
       "      <td>314</td>\n",
       "      <td>103</td>\n",
       "      <td>2</td>\n",
       "      <td>2.0</td>\n",
       "      <td>3.0</td>\n",
       "      <td>8.21</td>\n",
       "      <td>0</td>\n",
       "      <td>0.65</td>\n",
       "    </tr>\n",
       "    <tr>\n",
       "      <th>4</th>\n",
       "      <td>5</td>\n",
       "      <td>330</td>\n",
       "      <td>115</td>\n",
       "      <td>5</td>\n",
       "      <td>4.5</td>\n",
       "      <td>3.0</td>\n",
       "      <td>9.34</td>\n",
       "      <td>1</td>\n",
       "      <td>0.90</td>\n",
       "    </tr>\n",
       "    <tr>\n",
       "      <th>...</th>\n",
       "      <td>...</td>\n",
       "      <td>...</td>\n",
       "      <td>...</td>\n",
       "      <td>...</td>\n",
       "      <td>...</td>\n",
       "      <td>...</td>\n",
       "      <td>...</td>\n",
       "      <td>...</td>\n",
       "      <td>...</td>\n",
       "    </tr>\n",
       "    <tr>\n",
       "      <th>380</th>\n",
       "      <td>381</td>\n",
       "      <td>324</td>\n",
       "      <td>110</td>\n",
       "      <td>3</td>\n",
       "      <td>3.5</td>\n",
       "      <td>3.5</td>\n",
       "      <td>9.04</td>\n",
       "      <td>1</td>\n",
       "      <td>0.82</td>\n",
       "    </tr>\n",
       "    <tr>\n",
       "      <th>381</th>\n",
       "      <td>382</td>\n",
       "      <td>325</td>\n",
       "      <td>107</td>\n",
       "      <td>3</td>\n",
       "      <td>3.0</td>\n",
       "      <td>3.5</td>\n",
       "      <td>9.11</td>\n",
       "      <td>1</td>\n",
       "      <td>0.84</td>\n",
       "    </tr>\n",
       "    <tr>\n",
       "      <th>382</th>\n",
       "      <td>383</td>\n",
       "      <td>330</td>\n",
       "      <td>116</td>\n",
       "      <td>4</td>\n",
       "      <td>5.0</td>\n",
       "      <td>4.5</td>\n",
       "      <td>9.45</td>\n",
       "      <td>1</td>\n",
       "      <td>0.91</td>\n",
       "    </tr>\n",
       "    <tr>\n",
       "      <th>383</th>\n",
       "      <td>384</td>\n",
       "      <td>312</td>\n",
       "      <td>103</td>\n",
       "      <td>3</td>\n",
       "      <td>3.5</td>\n",
       "      <td>4.0</td>\n",
       "      <td>8.78</td>\n",
       "      <td>0</td>\n",
       "      <td>0.67</td>\n",
       "    </tr>\n",
       "    <tr>\n",
       "      <th>384</th>\n",
       "      <td>385</td>\n",
       "      <td>333</td>\n",
       "      <td>117</td>\n",
       "      <td>4</td>\n",
       "      <td>5.0</td>\n",
       "      <td>4.0</td>\n",
       "      <td>9.66</td>\n",
       "      <td>1</td>\n",
       "      <td>0.95</td>\n",
       "    </tr>\n",
       "  </tbody>\n",
       "</table>\n",
       "<p>385 rows × 9 columns</p>\n",
       "</div>"
      ],
      "text/plain": [
       "     Serial No.  GRE Score  TOEFL Score  University Rating  SOP  LOR   CGPA  \\\n",
       "0             1        337          118                  4  4.5   4.5  9.65   \n",
       "1             2        316          104                  3  3.0   3.5  8.00   \n",
       "2             3        322          110                  3  3.5   2.5  8.67   \n",
       "3             4        314          103                  2  2.0   3.0  8.21   \n",
       "4             5        330          115                  5  4.5   3.0  9.34   \n",
       "..          ...        ...          ...                ...  ...   ...   ...   \n",
       "380         381        324          110                  3  3.5   3.5  9.04   \n",
       "381         382        325          107                  3  3.0   3.5  9.11   \n",
       "382         383        330          116                  4  5.0   4.5  9.45   \n",
       "383         384        312          103                  3  3.5   4.0  8.78   \n",
       "384         385        333          117                  4  5.0   4.0  9.66   \n",
       "\n",
       "     Research  Chance of Admit   \n",
       "0           1              0.92  \n",
       "1           1              0.72  \n",
       "2           1              0.80  \n",
       "3           0              0.65  \n",
       "4           1              0.90  \n",
       "..        ...               ...  \n",
       "380         1              0.82  \n",
       "381         1              0.84  \n",
       "382         1              0.91  \n",
       "383         0              0.67  \n",
       "384         1              0.95  \n",
       "\n",
       "[385 rows x 9 columns]"
      ]
     },
     "execution_count": 7,
     "metadata": {},
     "output_type": "execute_result"
    }
   ],
   "source": [
    "admissions.set_index('Serial No.', inplace=True)\n",
    "admissions.reset_index(inplace=False)\n"
   ]
  },
  {
   "cell_type": "code",
   "execution_count": 8,
   "id": "33c7b430",
   "metadata": {},
   "outputs": [
    {
     "data": {
      "text/plain": [
       "True"
      ]
     },
     "execution_count": 8,
     "metadata": {},
     "output_type": "execute_result"
    }
   ],
   "source": [
    "unique_identifiers = admissions.duplicated(subset=['GRE Score', 'CGPA']).sum() == 0\n",
    "unique_identifiers\n"
   ]
  },
  {
   "cell_type": "code",
   "execution_count": 9,
   "id": "cd601060",
   "metadata": {},
   "outputs": [
    {
     "data": {
      "text/plain": [
       "101"
      ]
     },
     "execution_count": 9,
     "metadata": {},
     "output_type": "execute_result"
    }
   ],
   "source": [
    "cgpa_greater_9 = admissions[(admissions['CGPA'] > 9) & (admissions['Research'] == 1)]\n",
    "num_rows_cgpa_greater_9 = cgpa_greater_9.shape[0]\n",
    "num_rows_cgpa_greater_9\n"
   ]
  },
  {
   "cell_type": "code",
   "execution_count": 10,
   "id": "8b86d9d5",
   "metadata": {},
   "outputs": [
    {
     "data": {
      "text/plain": [
       "0.8019999999999999"
      ]
     },
     "execution_count": 10,
     "metadata": {},
     "output_type": "execute_result"
    }
   ],
   "source": [
    "cgpa_sop_condition = admissions[(admissions['CGPA'] > 9) & (admissions['SOP'] < 3.5)]\n",
    "mean_chance_admit = cgpa_sop_condition['Chance of Admit '].mean()\n",
    "mean_chance_admit\n"
   ]
  },
  {
   "cell_type": "code",
   "execution_count": null,
   "id": "8dd76abb",
   "metadata": {},
   "outputs": [],
   "source": []
  }
 ],
 "metadata": {
  "kernelspec": {
   "display_name": "Python 3 (ipykernel)",
   "language": "python",
   "name": "python3"
  },
  "language_info": {
   "codemirror_mode": {
    "name": "ipython",
    "version": 3
   },
   "file_extension": ".py",
   "mimetype": "text/x-python",
   "name": "python",
   "nbconvert_exporter": "python",
   "pygments_lexer": "ipython3",
   "version": "3.11.7"
  }
 },
 "nbformat": 4,
 "nbformat_minor": 5
}
